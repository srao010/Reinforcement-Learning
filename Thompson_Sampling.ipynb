{
  "nbformat": 4,
  "nbformat_minor": 0,
  "metadata": {
    "colab": {
      "provenance": [],
      "authorship_tag": "ABX9TyPhuXSq8MOPmWVHMXfUDSVA",
      "include_colab_link": true
    },
    "kernelspec": {
      "name": "python3",
      "display_name": "Python 3"
    },
    "language_info": {
      "name": "python"
    }
  },
  "cells": [
    {
      "cell_type": "markdown",
      "metadata": {
        "id": "view-in-github",
        "colab_type": "text"
      },
      "source": [
        "<a href=\"https://colab.research.google.com/github/srao010/Reinforcement-Learning/blob/main/Thompson_Sampling.ipynb\" target=\"_parent\"><img src=\"https://colab.research.google.com/assets/colab-badge.svg\" alt=\"Open In Colab\"/></a>"
      ]
    },
    {
      "cell_type": "code",
      "execution_count": 1,
      "metadata": {
        "id": "pzerkppYWjCo"
      },
      "outputs": [],
      "source": [
        "import pandas as pd\n",
        "import numpy as np\n",
        "import matplotlib.pyplot as plt"
      ]
    },
    {
      "cell_type": "code",
      "source": [
        "df = pd.read_csv('Ads_Optimisation.csv')"
      ],
      "metadata": {
        "id": "W0Kfnn-YeUEH"
      },
      "execution_count": 3,
      "outputs": []
    },
    {
      "cell_type": "code",
      "source": [
        "#IMPLEMENTING THOMPSON SAMPLING\n",
        "df.shape"
      ],
      "metadata": {
        "colab": {
          "base_uri": "https://localhost:8080/"
        },
        "id": "3ZOfrr6beYwF",
        "outputId": "7d024742-4cd9-4f6e-a36a-de959920daff"
      },
      "execution_count": 5,
      "outputs": [
        {
          "output_type": "execute_result",
          "data": {
            "text/plain": [
              "(10000, 10)"
            ]
          },
          "metadata": {},
          "execution_count": 5
        }
      ]
    },
    {
      "cell_type": "code",
      "source": [
        "import random\n",
        "N= len(df)\n",
        "d= len(df.columns)\n",
        "ads_selected= []\n",
        "number_of_rewards_1 = [0] * d\n",
        "number_of_rewards_0 = [0] * d\n",
        "total_reward= 0\n",
        "\n",
        "for n in range(N):\n",
        "  ad= 0\n",
        "  max_random_beta= 0\n",
        "  for i in range(d):\n",
        "    random_beta= random.betavariate(number_of_rewards_1[i] + 1, number_of_rewards_0[i] + 1)\n",
        "    if random_beta > max_random_beta:\n",
        "      max_random_beta= random_beta\n",
        "      ad= i\n",
        "  ads_selected.append(ad)\n",
        "  reward= df.iloc[n, ad]\n",
        "  if reward == 1:\n",
        "    number_of_rewards_1[ad] += 1\n",
        "  else:\n",
        "    number_of_rewards_0[ad] += 1\n",
        "  total_reward += reward "
      ],
      "metadata": {
        "id": "JQ2pY9lujr9V"
      },
      "execution_count": 31,
      "outputs": []
    },
    {
      "cell_type": "code",
      "source": [
        "print(total_reward)"
      ],
      "metadata": {
        "colab": {
          "base_uri": "https://localhost:8080/"
        },
        "id": "PcaS4c03lLLk",
        "outputId": "3e24d77c-fd48-44ab-8584-00937f762511"
      },
      "execution_count": 32,
      "outputs": [
        {
          "output_type": "stream",
          "name": "stdout",
          "text": [
            "2615\n"
          ]
        }
      ]
    },
    {
      "cell_type": "code",
      "source": [
        "plt.hist(ads_selected)\n",
        "plt.title('Histogram of ads selection')\n",
        "plt.xlabel('Ads')\n",
        "plt.ylabel('Number of times each ad was selected by the algorithm')"
      ],
      "metadata": {
        "colab": {
          "base_uri": "https://localhost:8080/",
          "height": 329
        },
        "id": "KTOXs_0ulUAh",
        "outputId": "02a45d00-4b3b-41be-fa07-81ebf1c8e607"
      },
      "execution_count": 33,
      "outputs": [
        {
          "output_type": "execute_result",
          "data": {
            "text/plain": [
              "Text(0, 0.5, 'Number of times each ad was selected by the algorithm')"
            ]
          },
          "metadata": {},
          "execution_count": 33
        },
        {
          "output_type": "display_data",
          "data": {
            "text/plain": [
              "<Figure size 432x288 with 1 Axes>"
            ],
            "image/png": "[encoded data removed]"
          },
          "metadata": {
            "needs_background": "light"
          }
        }
      ]
    },
    {
      "cell_type": "code",
      "source": [],
      "metadata": {
        "id": "-4i3SOWDldXk"
      },
      "execution_count": null,
      "outputs": []
    }
  ]
}